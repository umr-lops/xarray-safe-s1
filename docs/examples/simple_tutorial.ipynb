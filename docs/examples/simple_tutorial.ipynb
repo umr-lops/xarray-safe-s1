{
 "cells": [
  {
   "cell_type": "markdown",
   "id": "6481cafa-2f86-43f1-a6be-4b6a29fffdd9",
   "metadata": {},
   "source": [
    "# Tutorial for xarray-safe-s1\n",
    "xarray-safe-s1 is a xarray reader for Sentinel-1 SAFE files"
   ]
  },
  {
   "cell_type": "code",
   "execution_count": 1,
   "id": "71f12140-2f6f-449d-991f-38f3772a58d8",
   "metadata": {},
   "outputs": [],
   "source": [
    "from safe_s1 import Sentinel1Reader"
   ]
  },
  {
   "cell_type": "markdown",
   "id": "11b6ce6d-87cd-49ab-a222-40fc3bacb573",
   "metadata": {},
   "source": [
    "## Get a product path\n",
    "Here, we get the product path with xsar library, but this is optionnal"
   ]
  },
  {
   "cell_type": "code",
   "execution_count": 2,
   "id": "c8817580-9b6e-40ae-aa9e-60012418aff2",
   "metadata": {},
   "outputs": [],
   "source": [
    "import xsar"
   ]
  },
  {
   "cell_type": "code",
   "execution_count": 3,
   "id": "44824fc1-d3c3-4ec8-9d60-96900fc7d980",
   "metadata": {},
   "outputs": [
    {
     "data": {
      "text/plain": [
       "'/tmp/S1A_IW_GRDH_1SDV_20170907T103020_20170907T103045_018268_01EB76_Z010.SAFE'"
      ]
     },
     "execution_count": 3,
     "metadata": {},
     "output_type": "execute_result"
    }
   ],
   "source": [
    "# get test file. You can replace with an path to other SAFE\n",
    "filename = xsar.get_test_file('S1A_IW_GRDH_1SDV_20170907T103020_20170907T103045_018268_01EB76_Z010.SAFE')\n",
    "filename"
   ]
  },
  {
   "cell_type": "markdown",
   "id": "550f4b52-5efd-4567-b9cd-f6e88c140379",
   "metadata": {
    "tags": []
   },
   "source": [
    "## Open a product\n",
    "We apply Sentinel1Reader to open a  Sentinel-1 product"
   ]
  },
  {
   "cell_type": "code",
   "execution_count": 4,
   "id": "3457cbc8-d952-4524-be75-a33a693276a7",
   "metadata": {},
   "outputs": [],
   "source": [
    "reader = Sentinel1Reader(name=filename)"
   ]
  }
 ],
 "metadata": {
  "kernelspec": {
   "display_name": "xsar_holoviews",
   "language": "python",
   "name": "xsar_holoviews"
  },
  "language_info": {
   "codemirror_mode": {
    "name": "ipython",
    "version": 3
   },
   "file_extension": ".py",
   "mimetype": "text/x-python",
   "name": "python",
   "nbconvert_exporter": "python",
   "pygments_lexer": "ipython3",
   "version": "3.10.8"
  }
 },
 "nbformat": 4,
 "nbformat_minor": 5
}
