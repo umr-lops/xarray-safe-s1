{
 "cells": [
  {
   "cell_type": "markdown",
   "id": "6481cafa-2f86-43f1-a6be-4b6a29fffdd9",
   "metadata": {
    "tags": []
   },
   "source": [
    "# Tutorial for xarray-safe-s1\n",
    "xarray-safe-s1 is a xarray reader for Sentinel-1 SAFE files"
   ]
  },
  {
   "cell_type": "code",
   "execution_count": null,
   "id": "71f12140-2f6f-449d-991f-38f3772a58d8",
   "metadata": {},
   "outputs": [],
   "source": [
    "from safe_s1 import Sentinel1Reader, sentinel1_xml_mappings"
   ]
  },
  {
   "cell_type": "markdown",
   "id": "11b6ce6d-87cd-49ab-a222-40fc3bacb573",
   "metadata": {},
   "source": [
    "## Get a product path\n",
    "Here, we get the product path with xsar library, but this is optionnal"
   ]
  },
  {
   "cell_type": "code",
   "execution_count": null,
   "id": "44824fc1-d3c3-4ec8-9d60-96900fc7d980",
   "metadata": {},
   "outputs": [],
   "source": [
    "# get test file. You can replace with an path to other SAFE\n",
    "filename = sentinel1_xml_mappings.get_test_file('S1A_IW_GRDH_1SDV_20170907T103020_20170907T103045_018268_01EB76_Z010.SAFE')\n",
    "filename"
   ]
  },
  {
   "cell_type": "markdown",
   "id": "550f4b52-5efd-4567-b9cd-f6e88c140379",
   "metadata": {
    "tags": []
   },
   "source": [
    "## Open a product\n",
    "We apply Sentinel1Reader to open a  Sentinel-1 product"
   ]
  },
  {
   "cell_type": "code",
   "execution_count": null,
   "id": "3457cbc8-d952-4524-be75-a33a693276a7",
   "metadata": {},
   "outputs": [],
   "source": [
    "reader = Sentinel1Reader(name=filename)\n",
    "reader"
   ]
  },
  {
   "cell_type": "markdown",
   "id": "37779ce8-b845-4647-96a1-bfb9e61d03a2",
   "metadata": {},
   "source": [
    "Some properties permit to have informations about the product :"
   ]
  },
  {
   "cell_type": "code",
   "execution_count": null,
   "id": "dac3189b-358f-445a-abdd-726825e287dc",
   "metadata": {},
   "outputs": [],
   "source": [
    "# Type of product \n",
    "reader.product"
   ]
  },
  {
   "cell_type": "code",
   "execution_count": null,
   "id": "5ae24650-3c2b-45e0-ae29-7c180e447aeb",
   "metadata": {},
   "outputs": [],
   "source": [
    "# Mode\n",
    "reader.dsid"
   ]
  },
  {
   "cell_type": "code",
   "execution_count": null,
   "id": "727887e2-ea70-4a67-b5cf-89ddd9f4982d",
   "metadata": {},
   "outputs": [],
   "source": [
    "# Pixel line spacing (unit : meters)\n",
    "reader.pixel_line_m"
   ]
  },
  {
   "cell_type": "code",
   "execution_count": null,
   "id": "03e607cf-a72d-43d7-9cfc-fd98acdc6901",
   "metadata": {},
   "outputs": [],
   "source": [
    "# Pixel sample spacing (unit : meters)\n",
    "reader.pixel_sample_m"
   ]
  },
  {
   "cell_type": "markdown",
   "id": "5a4dc99a-3df2-4d97-8a0c-0d937de3f1a3",
   "metadata": {},
   "source": [
    "## Explore different files available"
   ]
  },
  {
   "cell_type": "markdown",
   "id": "385d740a-e897-4245-80d6-a79973700b4d",
   "metadata": {},
   "source": [
    "In the reader object representation, we can see if the product is a multidataset or not. We can also access this information with the property [multidataset](../api.rst#safe_s1.Sentinel1Reader.multidataset) :"
   ]
  },
  {
   "cell_type": "code",
   "execution_count": null,
   "id": "a5e9535c-73ec-4b24-977f-41924a0ec3b9",
   "metadata": {},
   "outputs": [],
   "source": [
    "reader.multidataset"
   ]
  },
  {
   "cell_type": "markdown",
   "id": "a5a58746-1e0a-46ca-afde-04d0d7da373d",
   "metadata": {},
   "source": [
    "### Single dataset product"
   ]
  },
  {
   "cell_type": "markdown",
   "id": "425f9725-7a37-4b11-98c5-a7c72e15fe62",
   "metadata": {},
   "source": [
    "Above, we can see that the product isn't a multidataset, so we can access files like this :"
   ]
  },
  {
   "cell_type": "code",
   "execution_count": null,
   "id": "ad9729cd-5f70-4d28-80a3-f9081a68264c",
   "metadata": {},
   "outputs": [],
   "source": [
    "reader.files"
   ]
  },
  {
   "cell_type": "markdown",
   "id": "03e9c002-6864-4426-a31e-64aecdf4acb3",
   "metadata": {},
   "source": [
    "### Multidataset product"
   ]
  },
  {
   "cell_type": "markdown",
   "id": "3a8509b0-9ba8-4777-b099-24bdb3978496",
   "metadata": {},
   "source": [
    "If the product is a multidataset, you must use the following property to see the safe files :"
   ]
  },
  {
   "cell_type": "code",
   "execution_count": null,
   "id": "f1bc7fc6-7d44-451a-83b0-17c1c4d949c1",
   "metadata": {},
   "outputs": [],
   "source": [
    "reader.safe_files"
   ]
  },
  {
   "cell_type": "markdown",
   "id": "9954b236-edee-4174-9054-bf0dcdd0dc3f",
   "metadata": {},
   "source": [
    "Or you can access the files of a subdataset applying the reader to a subdataset :"
   ]
  },
  {
   "cell_type": "code",
   "execution_count": null,
   "id": "206b0bc0-47cf-4bdd-9318-0d182afb6e69",
   "metadata": {},
   "outputs": [],
   "source": [
    "# Access available datasets\n",
    "datasets = reader.datasets_names\n",
    "datasets"
   ]
  },
  {
   "cell_type": "code",
   "execution_count": null,
   "id": "3e768c03-597e-4319-ab72-d7441f40a01f",
   "metadata": {},
   "outputs": [],
   "source": [
    "# Instanciate a reader for a subdataset\n",
    "reader = Sentinel1Reader(datasets[0])"
   ]
  },
  {
   "cell_type": "code",
   "execution_count": null,
   "id": "b4b58d0a-fbd1-45bd-a512-e7c2303b91ce",
   "metadata": {},
   "outputs": [],
   "source": [
    "# Access the files of the subdataset\n",
    "reader.files"
   ]
  },
  {
   "cell_type": "markdown",
   "id": "159a9ddf-90cd-4703-a0dc-f726cf477480",
   "metadata": {},
   "source": [
    "## Access the useful data\n",
    "It is expressed as a datatree"
   ]
  },
  {
   "cell_type": "code",
   "execution_count": null,
   "id": "b891e4ee-9ae8-462d-b315-0020554f85ff",
   "metadata": {},
   "outputs": [],
   "source": [
    "data = reader.datatree\n",
    "data"
   ]
  },
  {
   "cell_type": "markdown",
   "id": "fd5c3484-469d-47fa-98bf-f354380d3519",
   "metadata": {},
   "source": [
    "In attributes (history) we can retrieve the files and xpaths used to get concerned data"
   ]
  },
  {
   "cell_type": "markdown",
   "id": "f8c680a3-3854-48c0-9bff-73395afb22c4",
   "metadata": {},
   "source": [
    "## Load digital numbers"
   ]
  },
  {
   "cell_type": "markdown",
   "id": "d3575fd8-96f5-4052-82ac-33d79adb06ff",
   "metadata": {},
   "source": [
    "A function to load digital numbers with a specific resolution is also included in the reader. The function used is [load_digital_number](../api.rst#safe_s1.Sentinel1Reader.load_digital_number)"
   ]
  },
  {
   "cell_type": "markdown",
   "id": "7e165171-de5f-4b7c-bd7d-61ad486ca1b4",
   "metadata": {},
   "source": [
    "Note : This function returns a tuple: resolution and digital numbers"
   ]
  },
  {
   "cell_type": "code",
   "execution_count": null,
   "id": "9b73f78f-a01b-413d-9005-3c50af46ae90",
   "metadata": {},
   "outputs": [],
   "source": [
    "import rasterio"
   ]
  },
  {
   "cell_type": "code",
   "execution_count": null,
   "id": "07b2b114-b5fa-421e-b136-a6254c4b47e5",
   "metadata": {},
   "outputs": [],
   "source": [
    "# parameters\n",
    "resampling = rasterio.enums.Resampling.rms\n",
    "chunks = {'line': 5000, 'sample': 5000}\n",
    "resolution = '1000m'"
   ]
  },
  {
   "cell_type": "code",
   "execution_count": null,
   "id": "10afe1bd-b364-44dc-bb55-7768a6d3663c",
   "metadata": {},
   "outputs": [],
   "source": [
    "dn = reader.load_digital_number(resolution=resolution, resampling=resampling, chunks=chunks)\n",
    "dn"
   ]
  },
  {
   "cell_type": "markdown",
   "id": "daed8449-c296-4b76-8934-19c297430a67",
   "metadata": {
    "tags": []
   },
   "source": [
    "## Some important functions used to build the datatree"
   ]
  },
  {
   "cell_type": "markdown",
   "id": "4f95747f-619c-4a4f-9d8b-2984b5be9b31",
   "metadata": {},
   "source": [
    "### Calibration luts"
   ]
  },
  {
   "cell_type": "code",
   "execution_count": null,
   "id": "314fd977-cf46-4cdd-80df-344870b5563c",
   "metadata": {},
   "outputs": [],
   "source": [
    "reader.get_calibration_luts"
   ]
  },
  {
   "cell_type": "markdown",
   "id": "b52cd828-158b-4293-8d04-63611cc01c41",
   "metadata": {},
   "source": [
    "### Noise range luts"
   ]
  },
  {
   "cell_type": "code",
   "execution_count": null,
   "id": "bb463ce3-ae0d-4ed0-b162-1e7a4feaf29f",
   "metadata": {},
   "outputs": [],
   "source": [
    "reader.get_noise_range_raw"
   ]
  },
  {
   "cell_type": "markdown",
   "id": "8ef6f480-9890-43f7-8c53-d6dcd6c60602",
   "metadata": {},
   "source": [
    "### Noise azimuth luts"
   ]
  },
  {
   "cell_type": "code",
   "execution_count": null,
   "id": "a218824e-662d-40bf-b2ef-b288eca7dee6",
   "metadata": {},
   "outputs": [],
   "source": [
    "reader.get_noise_azi_raw"
   ]
  },
  {
   "cell_type": "markdown",
   "id": "ba6fcfbb-1866-4bdc-9bcd-23902b4086ff",
   "metadata": {
    "tags": []
   },
   "source": [
    "### Geolocation grid"
   ]
  },
  {
   "cell_type": "markdown",
   "id": "a8e4165f-19c8-4089-a947-81583487a115",
   "metadata": {},
   "source": [
    "The function used is [geoloc](../api.rst#safe_s1.Sentinel1Reader.geoloc), but it has a safety not to retrieve the data when it is already loaded. For this example, the data is already loaded so we must manually unlock the safety not to have a None result :"
   ]
  },
  {
   "cell_type": "code",
   "execution_count": null,
   "id": "fcc6c58f-9e92-462e-bd1c-2a2488724331",
   "metadata": {},
   "outputs": [],
   "source": [
    "# Unlock the safety\n",
    "reader._dict['geolocationGrid'] = None\n",
    "# Load the geolocation grid dataset\n",
    "reader.geoloc"
   ]
  },
  {
   "cell_type": "markdown",
   "id": "24f90a89-1d2b-4017-89d7-35ba9b9e2c5a",
   "metadata": {},
   "source": [
    "### Orbit information"
   ]
  },
  {
   "cell_type": "code",
   "execution_count": null,
   "id": "e2c68dea-3fa9-4ca8-996b-d59af36827d6",
   "metadata": {},
   "outputs": [],
   "source": [
    "reader.orbit"
   ]
  }
 ],
 "metadata": {
  "kernelspec": {
   "display_name": "Python 3 (ipykernel)",
   "language": "python",
   "name": "python3"
  },
  "language_info": {
   "codemirror_mode": {
    "name": "ipython",
    "version": 3
   },
   "file_extension": ".py",
   "mimetype": "text/x-python",
   "name": "python",
   "nbconvert_exporter": "python",
   "pygments_lexer": "ipython3",
   "version": "3.10.8"
  }
 },
 "nbformat": 4,
 "nbformat_minor": 5
}
